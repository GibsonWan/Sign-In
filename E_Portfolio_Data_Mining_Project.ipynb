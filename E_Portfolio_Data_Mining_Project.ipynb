{
  "nbformat": 4,
  "nbformat_minor": 0,
  "metadata": {
    "colab": {
      "name": "E-Portfolio Data Mining Project.ipynb",
      "provenance": [],
      "collapsed_sections": [],
      "mount_file_id": "1PavfqYWyzP7f0FjXJyG1OdckbrnJBmAj",
      "authorship_tag": "ABX9TyP8b4oEbUl73fR3JlgmrFu5",
      "include_colab_link": true
    },
    "kernelspec": {
      "name": "python3",
      "display_name": "Python 3"
    }
  },
  "cells": [
    {
      "cell_type": "markdown",
      "metadata": {
        "id": "view-in-github",
        "colab_type": "text"
      },
      "source": [
        "<a href=\"https://colab.research.google.com/github/GibsonWan/Sign-In/blob/master/E_Portfolio_Data_Mining_Project.ipynb\" target=\"_parent\"><img src=\"https://colab.research.google.com/assets/colab-badge.svg\" alt=\"Open In Colab\"/></a>"
      ]
    },
    {
      "cell_type": "markdown",
      "metadata": {
        "id": "2OCjkIc9MZcA"
      },
      "source": [
        "# **Data Mining Project on Predictive Maintenance (PdM)**\r\n",
        "Done by:Gibson Wan\r\n",
        "\r\n",
        "\r\n",
        "\r\n",
        "\r\n"
      ]
    },
    {
      "cell_type": "markdown",
      "metadata": {
        "id": "u78AUmdeVo56"
      },
      "source": [
        "# **What is Predictive Maintenance (PdM)**\r\n",
        "\r\n",
        "Equiqment or technology have been parts of our life. These technology have been helping us in our daily life. Although they can work for long lifespan, machines and technology still neeed to be maintain. For this project the dataset that being use is from kaggle which is the Miscrosoft Azure Predictive Maintenance (PdM)"
      ]
    },
    {
      "cell_type": "markdown",
      "metadata": {
        "id": "-RbP4F_uX8F0"
      },
      "source": [
        "There is several datasets that were obtain from kaggle. Here are the original dataset that were provide:\r\n",
        "\r\n",
        "* **PdM_machine.cvs:** The features of a machine, e.g. machineID, model and age.\r\n",
        "* **PdM_maint.cvs:** The repair history of a machine, e.g. failures, previous maintenance activities or component replacements.\r\n",
        "* **PdM_failures.cvs:** These are the records of component replacements due to failures.\r\n",
        "* **PdM_telemetry.cvs:** This is a telemetry time-series data. It consists of voltage, rotation, pressure, and vibration measurements collected from 100 machines\r\n",
        "* **PdM_errors.cvs:** These are non-breaking errors thrown while the machine is still operational and do not constitute as failures.\r\n"
      ]
    },
    {
      "cell_type": "markdown",
      "metadata": {
        "id": "J_88pEoHZw8N"
      },
      "source": [
        "# **Problem Statement**\r\n",
        "Commonly, most businesses rely on **corrective maintenance**, where parts are replaced as and when they fail. Other than that, businesses also practice **preventive maintenance**, where they determine the useful lifespan for a parts, and maintain or replace it before a failure. But, both of this still have high costs of scheduled and business downtime. So, with **Predicitive maintenance** technique, it designed to help determine the condition of in-service equipment in oder to estimate when the maintenance should be performend. It balanced between corrective maintenance and preventive maintenance.\r\n"
      ]
    },
    {
      "cell_type": "markdown",
      "metadata": {
        "id": "mzaBRgHlbBLf"
      },
      "source": [
        "#**StakeHolder**\r\n",
        "\r\n",
        "* Technician\r\n",
        "  * For the technician, they will know when the suitable time to make a maintenance to replace a component for each model\r\n",
        "* Manufacturer\r\n",
        "  * Manufacturer will know what kind of componets and models are the best to be use to produce a machine\r\n",
        "* Business Owner\r\n",
        "  * For the business owners, they can plan cost reduction on repairing their machines and also be able to make decision on purchasing which model and components to be use in their machine."
      ]
    },
    {
      "cell_type": "markdown",
      "metadata": {
        "id": "OqarS8lYr4rn"
      },
      "source": [
        "#**Hypothesis Question?**\r\n",
        "\r\n",
        "\r\n",
        "1. Which machine model have the highest number of faulty components?\r\n",
        "2. Which components have high risk of failure and in which model?\r\n",
        "3. What is the percentage of vibration, pressure, voltage, and rotation effecting the components?\r\n",
        "4. Which MachineIDs has the highest number of faulty components?\r\n",
        "5. When is the expected failure for each components?\r\n",
        "\r\n"
      ]
    },
    {
      "cell_type": "markdown",
      "metadata": {
        "id": "pqVUHLRdl--z"
      },
      "source": [
        "#**Data Pre-processing Steps**\r\n",
        "\r\n",
        "Here are some data pre-processing steps that been made to the datasets:\r\n",
        "* There were no missing values in any of the datasets. SO, theres was no need to replace or delete any missing values. But the data in datasets PdM_Maint contain three different years which is 2014, 2015,2016,. While the other dataset only contain the data ffor the year 2015. With this we .\r\n",
        "remove the data from the year 2014 and 2016 and only keep the data for 2015. This make our total instances 2887\r\n",
        "* Another steps that we take is mostly using the VLOOKUP formula. This is to match the datasets across the multiple dataset and merge them together.\r\n",
        "* We also do some discretize to some of the data to make the data more readable and to avoid to many variable in the data.\r\n",
        " "
      ]
    },
    {
      "cell_type": "markdown",
      "metadata": {
        "id": "imqw39drqBAf"
      },
      "source": [
        "**Here is the finished dataset that we use mostly for out Exploratory Data Analysis:**\r\n",
        "![](https://drive.google.com/uc?export=view&id=10PqRkKMbrcqR58J2iUAHzLlZ4dWD_cJq)"
      ]
    },
    {
      "cell_type": "markdown",
      "metadata": {
        "id": "MMrR2LIirKB9"
      },
      "source": [
        "#**Exploratory Data Analysis and Data Visualization**\r\n",
        "\r\n",
        "For data visualization, the tool that being use is PowerBI. By uploading the dataset that we have to PowerBI data visualization can be done through it and hence, came out with the dashboard."
      ]
    },
    {
      "cell_type": "markdown",
      "metadata": {
        "id": "wer-AYhxrpuH"
      },
      "source": [
        "#***Predictive Maintenance Dashboard 1***\r\n",
        "\r\n",
        "\r\n",
        "\r\n",
        "Here is the first page of the dashboard. In this page, the users can see the overall important data from the data\r\n",
        "![](https://drive.google.com/uc?export=view&id=1P1DRY0LroXBwIgBGv72Jb1bHB0ZY2pPu)\r\n",
        "\r\n",
        "* The **1st graph** show the count of  Faulty component by Models. Where it show how many faulty are there in each models and for each components. From this graph we can see that the **Model 3** for **Component 2** has the highest number of failure. Also, we can observe in **Component 3** for **Model 3** and **Model 4** has no failure. So, from here user can know that the **Component 3** for **Model 3** and **Model 4** is a good component with low-risk of failing.\r\n",
        "* The **2nd Graph** below the **1st graph** show the number of the faulty component for each months. So from here the user can know the expected lifespan of the component and when the components likely to get faulty.\r\n",
        "* On the above right side. The **3rd Graph** show the percentage of model being use across the MachineID and also the percentage of failure and nomfailure for each model. The **4th Graph** is showing the percentage of faulty component in each model.Where we can see from the **4th Graph** the highest number of faulty component is in **Model 3** with **30%** of faulty component\r\n",
        "* The last graph, the **5th Graph** show the Treemap of the **MachineID** where is show the number of faulty component in each MachineID and in which **MachineID 99** has the highest number of faulty.\r\n",
        "\r\n"
      ]
    },
    {
      "cell_type": "markdown",
      "metadata": {
        "id": "ieOLbibiAc_J"
      },
      "source": [
        "Upon, clicking any part of the Models in either of **1st Graph** or **3rd Graph** it can trigger the highlight function which will effect all the graph in the page.\r\n",
        "\r\n",
        "![](https://drive.google.com/uc?id=18IUHZ92j2UPs613byAg5rU0nQ_qWrQ-b)\r\n",
        "\r\n",
        "From here, the user can see the highlited area \r\n",
        "* For the **Model 1** it will show the count of failure for each model in **1st Graph** where here we can se the highest failure is **Component 3**. \r\n",
        "* From the **2nd Graph**, it show that the failure accord mostly around **July** and **November**.\r\n",
        "* From the **3rd Graph** and **4th Graph** is show that **15.86%** of the **MachineID** use the **Model 1** and **Model 1** have **23.6%** faulty component.\r\n",
        "* The TreeMap show the highlighted **MachineID** that uses the **Model 1** and here user can see the number of failure in each **MachineID**."
      ]
    },
    {
      "cell_type": "markdown",
      "metadata": {
        "id": "8lVXX6K2Fmyl"
      },
      "source": [
        "#***Predictive Maintainance Dashboard 2***\r\n",
        "\r\n",
        "Here is the look for the second page of the dashboard \r\n",
        "\r\n",
        "![](https://drive.google.com/uc?id=15YMF1nfgibg87H9Ds6bkzgHJ5gDTVPjN)\r\n",
        "\r\n"
      ]
    }
  ]
}